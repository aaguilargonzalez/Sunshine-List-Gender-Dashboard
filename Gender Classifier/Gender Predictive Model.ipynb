{
 "cells": [
  {
   "cell_type": "markdown",
   "metadata": {},
   "source": [
    "# Import Gender Data to Train Model"
   ]
  },
  {
   "cell_type": "code",
   "execution_count": 1,
   "metadata": {
    "collapsed": false
   },
   "outputs": [],
   "source": [
    "import random\n",
    "from nltk.corpus import names\n",
    "\n",
    "# Read the names from the files.\n",
    "# Label each name with the corresponding gender.\n",
    "male_names = [(name, 'male') for name in names.words('male.txt')]\n",
    "female_names = [(name, 'female') for name in names.words('female.txt')]\n",
    "\n",
    "# Combine the lists.\n",
    "labeled_names = male_names + female_names\n",
    "\n",
    "# Take out leading and ending space characters from names\n",
    "clean_names = [(name.strip(), gender) for (name, gender) in labeled_names]\n",
    "\n",
    "# Shuffle the list, set seed for reproducibility\n",
    "random.seed(74)\n",
    "random.shuffle(clean_names)"
   ]
  },
  {
   "cell_type": "markdown",
   "metadata": {},
   "source": [
    "# Create Features for Model"
   ]
  },
  {
   "cell_type": "code",
   "execution_count": 2,
   "metadata": {
    "collapsed": false
   },
   "outputs": [
    {
     "data": {
      "text/plain": [
       "array(['o', 'e', 'a', 'n', 'm', 's', 'r', 't', 'y', 'd', 'i', 'k', 'h',\n",
       "       'p', 'l', 'j', 'c', 'w', 'b', 'g', 'f', 'v', 'u', 'x', 'z'], dtype=object)"
      ]
     },
     "execution_count": 2,
     "metadata": {},
     "output_type": "execute_result"
    }
   ],
   "source": [
    "import pandas as pd\n",
    "import numpy as np\n",
    "\n",
    "# Create features for the model\n",
    "# Not many possible, will settle for last letter and length of name\n",
    "featuresets = [(n[-1],len(n),gender) for (n, gender) in clean_names]\n",
    "\n",
    "labels = ['last_letter','name_length', 'gender']\n",
    "df = pd.DataFrame.from_records(featuresets, columns=labels)\n",
    "# Covert gender to binary variable\n",
    "df['female'] = np.where(df['gender'] == 'female', 1, 0)\n",
    "df.drop(['gender'], axis=1, inplace=True)\n",
    "\n",
    "len(df)\n",
    "# dataframe has 7,944 names with two features each\n",
    "\n",
    "df.name_length.unique()\n",
    "# All names have at least 2 characters\n",
    "\n",
    "df.last_letter.unique()\n",
    "# All entries end with a letter\n",
    "# Note that there are no names ending in 'q', so no dummy variable will be prepared for this"
   ]
  },
  {
   "cell_type": "code",
   "execution_count": 3,
   "metadata": {
    "collapsed": false
   },
   "outputs": [
    {
     "data": {
      "text/html": [
       "<div>\n",
       "<table border=\"1\" class=\"dataframe\">\n",
       "  <thead>\n",
       "    <tr style=\"text-align: right;\">\n",
       "      <th>female</th>\n",
       "      <th>0</th>\n",
       "      <th>1</th>\n",
       "      <th>All</th>\n",
       "    </tr>\n",
       "    <tr>\n",
       "      <th>name_length</th>\n",
       "      <th></th>\n",
       "      <th></th>\n",
       "      <th></th>\n",
       "    </tr>\n",
       "  </thead>\n",
       "  <tbody>\n",
       "    <tr>\n",
       "      <th>2</th>\n",
       "      <td>11</td>\n",
       "      <td>8</td>\n",
       "      <td>19</td>\n",
       "    </tr>\n",
       "    <tr>\n",
       "      <th>3</th>\n",
       "      <td>147</td>\n",
       "      <td>125</td>\n",
       "      <td>272</td>\n",
       "    </tr>\n",
       "    <tr>\n",
       "      <th>4</th>\n",
       "      <td>390</td>\n",
       "      <td>537</td>\n",
       "      <td>927</td>\n",
       "    </tr>\n",
       "    <tr>\n",
       "      <th>5</th>\n",
       "      <td>660</td>\n",
       "      <td>1217</td>\n",
       "      <td>1877</td>\n",
       "    </tr>\n",
       "    <tr>\n",
       "      <th>6</th>\n",
       "      <td>791</td>\n",
       "      <td>1258</td>\n",
       "      <td>2049</td>\n",
       "    </tr>\n",
       "    <tr>\n",
       "      <th>7</th>\n",
       "      <td>495</td>\n",
       "      <td>952</td>\n",
       "      <td>1447</td>\n",
       "    </tr>\n",
       "    <tr>\n",
       "      <th>8</th>\n",
       "      <td>296</td>\n",
       "      <td>550</td>\n",
       "      <td>846</td>\n",
       "    </tr>\n",
       "    <tr>\n",
       "      <th>9</th>\n",
       "      <td>106</td>\n",
       "      <td>245</td>\n",
       "      <td>351</td>\n",
       "    </tr>\n",
       "    <tr>\n",
       "      <th>10</th>\n",
       "      <td>33</td>\n",
       "      <td>83</td>\n",
       "      <td>116</td>\n",
       "    </tr>\n",
       "    <tr>\n",
       "      <th>11</th>\n",
       "      <td>8</td>\n",
       "      <td>16</td>\n",
       "      <td>24</td>\n",
       "    </tr>\n",
       "    <tr>\n",
       "      <th>12</th>\n",
       "      <td>4</td>\n",
       "      <td>6</td>\n",
       "      <td>10</td>\n",
       "    </tr>\n",
       "    <tr>\n",
       "      <th>13</th>\n",
       "      <td>1</td>\n",
       "      <td>2</td>\n",
       "      <td>3</td>\n",
       "    </tr>\n",
       "    <tr>\n",
       "      <th>14</th>\n",
       "      <td>0</td>\n",
       "      <td>1</td>\n",
       "      <td>1</td>\n",
       "    </tr>\n",
       "    <tr>\n",
       "      <th>15</th>\n",
       "      <td>1</td>\n",
       "      <td>1</td>\n",
       "      <td>2</td>\n",
       "    </tr>\n",
       "    <tr>\n",
       "      <th>All</th>\n",
       "      <td>2943</td>\n",
       "      <td>5001</td>\n",
       "      <td>7944</td>\n",
       "    </tr>\n",
       "  </tbody>\n",
       "</table>\n",
       "</div>"
      ],
      "text/plain": [
       "female          0     1   All\n",
       "name_length                  \n",
       "2              11     8    19\n",
       "3             147   125   272\n",
       "4             390   537   927\n",
       "5             660  1217  1877\n",
       "6             791  1258  2049\n",
       "7             495   952  1447\n",
       "8             296   550   846\n",
       "9             106   245   351\n",
       "10             33    83   116\n",
       "11              8    16    24\n",
       "12              4     6    10\n",
       "13              1     2     3\n",
       "14              0     1     1\n",
       "15              1     1     2\n",
       "All          2943  5001  7944"
      ]
     },
     "execution_count": 3,
     "metadata": {},
     "output_type": "execute_result"
    }
   ],
   "source": [
    "pd.crosstab(df['last_letter'],df['female'], dropna=False, margins=True)\n",
    "# Among frequent (n>100) names:\n",
    "# Names ending with 'a','e','i' tend to be female\n",
    "# While names ending with 'd','o','r','s','t' tend be male\n",
    "pd.crosstab(df['name_length'],df['female'], dropna=False, margins=True)\n",
    "# Longer names (>4 letters) tend to be female (~64% of longer names in the dataset)"
   ]
  },
  {
   "cell_type": "markdown",
   "metadata": {},
   "source": [
    "# Train and Test Models"
   ]
  },
  {
   "cell_type": "code",
   "execution_count": 4,
   "metadata": {
    "collapsed": false
   },
   "outputs": [],
   "source": [
    "from sklearn.model_selection import train_test_split\n",
    "from sklearn.model_selection import cross_val_score\n",
    "from sklearn.preprocessing import MinMaxScaler\n",
    "from sklearn.model_selection import GridSearchCV\n",
    "from sklearn.naive_bayes import GaussianNB\n",
    "from sklearn.svm import SVC\n",
    "from sklearn.ensemble import GradientBoostingClassifier\n",
    "\n",
    "pd.options.mode.chained_assignment = None  # default='warn'\n",
    "\n",
    "alphabet = ['a','b','c','d','e','f','g','h','i','j','k','l','m','n','o','p','q','r','s','t','u','v','w','x','y','z']\n",
    "\n",
    "# Seperate out predictors (X or features) and response variable (y)\n",
    "X_df = df[['last_letter','name_length']]\n",
    "# Add 'q' as a category so that a dummy variable will be created for the letter 'q'\n",
    "X_df['last_letter'] = df['last_letter'].astype('category', categories= alphabet)\n",
    "y_df = df[['female']]\n",
    "y_val = y_df['female'].values\n",
    "# One-hot encode the last_letter categorical variable\n",
    "X_dummies = pd.get_dummies(X_df, columns=['last_letter'])\n",
    "\n",
    "# Create train/test split to train and optimize models\n",
    "X_train, X_test, y_train, y_test = train_test_split(X_dummies, y_df, random_state=74)\n",
    "y_train = y_train['female'].values\n",
    "\n",
    "# Scale X features for SVM model\n",
    "scaler = MinMaxScaler()\n",
    "X_train_scaled = scaler.fit_transform(X_train)\n",
    "X_dummies_scaled = scaler.fit_transform(X_dummies)\n",
    "\n",
    "# Baseline Model: Naive Bayes Gaussian\n",
    "# Use cross-fold validation to evaluate each model's performance\n",
    "# Note that names dataset contains ~63% female names\n",
    "gnb_clf = GaussianNB()\n",
    "gnb_score = cross_val_score(gnb_clf, X_dummies, y_val, cv=3, scoring = 'accuracy').mean()\n",
    "# 73.40%\n",
    "\n",
    "# Non-linear model: SVM\n",
    "\n",
    "# Use GridSearchCV to optimize the model using the training set\n",
    "\n",
    "#svm_clf = SVC(kernel='rbf')\n",
    "#grid_values = {'gamma': [0.01, 0.1, 1, 10],\n",
    "                  #'C': [0.1,1,10,100]}\n",
    "#grid_svmclf_acc = GridSearchCV(svm_clf, param_grid = grid_values)\n",
    "#grid_svmclf_acc.fit(X_train_scaled, y_train)\n",
    "#grid_svmclf_acc.best_params_\n",
    "# C = 10, gamma = 10\n",
    "\n",
    "svm_clf_opt = SVC(kernel='rbf', C=10, gamma=10)\n",
    "svm_score = cross_val_score(svm_clf_opt, X_dummies_scaled, y_val, cv=3, scoring = 'accuracy').mean()\n",
    "# 76.66%\n",
    "\n",
    "# Decision-tree model: Gradient Boosting Decision Trees\n",
    "\n",
    "#gbdt_clf = GradientBoostingClassifier()\n",
    "#grid_values = {'learning_rate': [0.01, 0.1, 0.3, 0.5],\n",
    "                  #'n_estimators': [50,100,200,300]}\n",
    "#grid_gbdtclf_acc = GridSearchCV(gbdt_clf, param_grid = grid_values)\n",
    "#grid_gbdtclf_acc.fit(X_train, y_train)\n",
    "#grid_gbdtclf_acc.best_params_\n",
    "# learning rate = 0.1, n estimators = 300\n",
    "\n",
    "gbdt_clf_opt = GradientBoostingClassifier(learning_rate=0.1, n_estimators=300)\n",
    "gbdt_score = cross_val_score(gbdt_clf_opt, X_dummies, y_val, cv=3, scoring = 'accuracy').mean()\n",
    "# 76.71, very slightly better than the SVM model\n",
    "\n",
    "# Final model chosen: GBDT"
   ]
  },
  {
   "cell_type": "markdown",
   "metadata": {
    "collapsed": true
   },
   "source": [
    "# Import Sunshine List Names Data"
   ]
  },
  {
   "cell_type": "code",
   "execution_count": 5,
   "metadata": {
    "collapsed": false
   },
   "outputs": [
    {
     "data": {
      "text/plain": [
       "calendar_year\n",
       "2012     88542\n",
       "2013     97916\n",
       "2014    111655\n",
       "2015    115920\n",
       "2016    124445\n",
       "Name: last_name, dtype: int64"
      ]
     },
     "execution_count": 5,
     "metadata": {},
     "output_type": "execute_result"
    }
   ],
   "source": [
    "import glob\n",
    "import re\n",
    "\n",
    "file_path = '/Users/arielaguilargonzalez/Library/Lima/Python/Sunshine List Gender Prediction Model/Data'\n",
    "allFiles = glob.glob(file_path + \"/*.csv\")\n",
    "\n",
    "# Import dataframes into a list\n",
    "allyears = []\n",
    "for file in allFiles:\n",
    "    df = pd.read_csv(file,index_col=None, header=0)\n",
    "    # Set the column names for each year\n",
    "    df.columns = ['sector','last_name', 'first_name', 'salary_paid', 'taxable_benefits', 'employer', 'job_title', 'calendar_year']\n",
    "    # Calendar_year variable is messy, set equal to the first observation, verified as clean\n",
    "    df['calendar_year'] = df['calendar_year'][0]\n",
    "    allyears.append(df)\n",
    "    \n",
    "# Concatenate all dataframes into one big dataframe\n",
    "sl_allyears = pd.concat(allyears, ignore_index=True)\n",
    "len(sl_allyears)\n",
    "# 538 478 observations\n",
    "sl_allyears['calendar_year'].unique()\n",
    "# Have right years displayed, 2012-2016\n",
    "\n",
    "# Check for duplicates\n",
    "len(sl_allyears[sl_allyears.duplicated()])\n",
    "# 0, no duplicates\n",
    "\n",
    "# How many employees were in each year?\n",
    "sl_allyears.groupby('calendar_year')['last_name'].count()\n",
    "# Number has grown every year from 88 542 in 2012 to 124 445 in 2016"
   ]
  },
  {
   "cell_type": "markdown",
   "metadata": {},
   "source": [
    "# Clean Up First Names"
   ]
  },
  {
   "cell_type": "code",
   "execution_count": 6,
   "metadata": {
    "collapsed": false
   },
   "outputs": [
    {
     "name": "stderr",
     "output_type": "stream",
     "text": [
      "/Users/arielaguilargonzalez/anaconda/lib/python3.6/site-packages/ipykernel/__main__.py:16: FutureWarning: currently extract(expand=None) means expand=False (return Index/Series/DataFrame) but in a future version of pandas this will be changed to expand=True (return DataFrame)\n"
     ]
    },
    {
     "data": {
      "text/plain": [
       "538460"
      ]
     },
     "execution_count": 6,
     "metadata": {},
     "output_type": "execute_result"
    }
   ],
   "source": [
    "# Any null first_names?\n",
    "sl_allyears['first_name'].isnull().sum()\n",
    "# 1, remove\n",
    "sl_allyears.dropna(subset=['first_name'], inplace=True)\n",
    "len(sl_allyears)\n",
    "# 538 477 observations\n",
    "\n",
    "sl_allyears['first_name_clean'] = sl_allyears['first_name'].str.strip()\n",
    "# Remove leading and trailing whitespace\n",
    "sl_allyears['first_name_clean'] = sl_allyears['first_name_clean'].str.lower()\n",
    "# Lowercase all letters\n",
    "sl_allyears['first_name_clean'] = sl_allyears['first_name_clean'].str.encode('ascii', 'ignore')\n",
    "# Convert strings to ascii to convert accented characters to plain letters\n",
    "sl_allyears['first_name_clean'] = sl_allyears['first_name_clean'].str.decode('UTF-8')\n",
    "# Convert ascii characters back to UTF\n",
    "sl_allyears['first_name_regex'] = sl_allyears['first_name_clean'].str.extract(r'([a-z]{2,})')\n",
    "# Regex only extracts whole names (two characters or more) so entries like bruce j. become bruce\n",
    "# Extract takes the first match, so a name like marie lise would be extracted as marie\n",
    "\n",
    "# Any non-matches?\n",
    "sl_allyears['first_name_regex'].isnull().sum()\n",
    "# 17 non-matches, look at data\n",
    "sl_allyears[sl_allyears['first_name_regex'].isnull()]\n",
    "# These names consist of only initials e.g A.J. , drop\n",
    "sl_allyears.dropna(subset=['first_name_regex'], inplace=True)\n",
    "len(sl_allyears)\n",
    "# 538 460 observations"
   ]
  },
  {
   "cell_type": "markdown",
   "metadata": {
    "collapsed": false
   },
   "source": [
    "# Create Gender Predictions For Names"
   ]
  },
  {
   "cell_type": "code",
   "execution_count": 7,
   "metadata": {
    "collapsed": false
   },
   "outputs": [
    {
     "data": {
      "text/plain": [
       "16124"
      ]
     },
     "execution_count": 7,
     "metadata": {},
     "output_type": "execute_result"
    }
   ],
   "source": [
    "distinct_names = sl_allyears['first_name_regex'].drop_duplicates()\n",
    "len(distinct_names)\n",
    "# 16 124 distinct names"
   ]
  },
  {
   "cell_type": "code",
   "execution_count": 8,
   "metadata": {
    "collapsed": false
   },
   "outputs": [
    {
     "data": {
      "text/html": [
       "<div>\n",
       "<table border=\"1\" class=\"dataframe\">\n",
       "  <thead>\n",
       "    <tr style=\"text-align: right;\">\n",
       "      <th></th>\n",
       "      <th>distinct_name</th>\n",
       "      <th>fem_prob</th>\n",
       "    </tr>\n",
       "  </thead>\n",
       "  <tbody>\n",
       "    <tr>\n",
       "      <th>0</th>\n",
       "      <td>sadiq</td>\n",
       "      <td>0.421819</td>\n",
       "    </tr>\n",
       "    <tr>\n",
       "      <th>1</th>\n",
       "      <td>jeffery</td>\n",
       "      <td>0.525883</td>\n",
       "    </tr>\n",
       "    <tr>\n",
       "      <th>2</th>\n",
       "      <td>abdul</td>\n",
       "      <td>0.514695</td>\n",
       "    </tr>\n",
       "    <tr>\n",
       "      <th>3</th>\n",
       "      <td>gail</td>\n",
       "      <td>0.456675</td>\n",
       "    </tr>\n",
       "    <tr>\n",
       "      <th>4</th>\n",
       "      <td>ian</td>\n",
       "      <td>0.358400</td>\n",
       "    </tr>\n",
       "  </tbody>\n",
       "</table>\n",
       "</div>"
      ],
      "text/plain": [
       "  distinct_name  fem_prob\n",
       "0         sadiq  0.421819\n",
       "1       jeffery  0.525883\n",
       "2         abdul  0.514695\n",
       "3          gail  0.456675\n",
       "4           ian  0.358400"
      ]
     },
     "execution_count": 8,
     "metadata": {},
     "output_type": "execute_result"
    }
   ],
   "source": [
    "slnames_features = [(w[-1:],len(w)) for w in distinct_names]\n",
    "\n",
    "labels = ['last_letter','name_length']\n",
    "slfeatures_df = pd.DataFrame.from_records(slnames_features, columns=labels)\n",
    "slfeatures_df['last_letter'] = slfeatures_df['last_letter'].astype('category', categories= alphabet)\n",
    "sl_dummies = pd.get_dummies(slfeatures_df, columns=['last_letter'])\n",
    "\n",
    "# Fit the final classifier model with optimal paramters and full training set\n",
    "gender_clf = GradientBoostingClassifier(learning_rate=0.1, n_estimators=300).fit(X_dummies, y_val)\n",
    "\n",
    "predictions = gender_clf.predict_proba(sl_dummies)\n",
    "# First column is probability that class = 0, male\n",
    "# Second column is prob that class = 1, female\n",
    "\n",
    "# Merge predictions with distinct names\n",
    "fem_pred = pd.DataFrame(predictions[:,1])\n",
    "d_names = pd.DataFrame(distinct_names).reset_index()\n",
    "\n",
    "dnames_pred = pd.merge(d_names, fem_pred, how='left', left_index=True, right_index=True)\n",
    "dnames_pred.drop(['index'], axis=1, inplace=True)\n",
    "dnames_pred.columns = ['distinct_name', 'fem_prob']\n",
    "dnames_pred.head()"
   ]
  },
  {
   "cell_type": "markdown",
   "metadata": {
    "collapsed": true
   },
   "source": [
    "# Merge Gender Predictions to Data"
   ]
  },
  {
   "cell_type": "code",
   "execution_count": 11,
   "metadata": {
    "collapsed": false
   },
   "outputs": [
    {
     "data": {
      "text/html": [
       "<div>\n",
       "<table border=\"1\" class=\"dataframe\">\n",
       "  <thead>\n",
       "    <tr style=\"text-align: right;\">\n",
       "      <th></th>\n",
       "      <th>sector</th>\n",
       "      <th>last_name</th>\n",
       "      <th>first_name</th>\n",
       "      <th>salary_paid</th>\n",
       "      <th>taxable_benefits</th>\n",
       "      <th>employer</th>\n",
       "      <th>job_title</th>\n",
       "      <th>calendar_year</th>\n",
       "      <th>distinct_name</th>\n",
       "      <th>fem_prob</th>\n",
       "      <th>gender</th>\n",
       "    </tr>\n",
       "  </thead>\n",
       "  <tbody>\n",
       "    <tr>\n",
       "      <th>0</th>\n",
       "      <td>Colleges</td>\n",
       "      <td>ABBAS</td>\n",
       "      <td>SADIQ</td>\n",
       "      <td>102186</td>\n",
       "      <td>119.88</td>\n",
       "      <td>Algonquin College</td>\n",
       "      <td>Professor</td>\n",
       "      <td>2012</td>\n",
       "      <td>sadiq</td>\n",
       "      <td>0.421819</td>\n",
       "      <td>male</td>\n",
       "    </tr>\n",
       "    <tr>\n",
       "      <th>1</th>\n",
       "      <td>Colleges</td>\n",
       "      <td>AGATE</td>\n",
       "      <td>JEFFERY MICHAEL</td>\n",
       "      <td>104657</td>\n",
       "      <td>335.15</td>\n",
       "      <td>Algonquin College</td>\n",
       "      <td>Manager, Counselling and Testing Services</td>\n",
       "      <td>2012</td>\n",
       "      <td>jeffery</td>\n",
       "      <td>0.525883</td>\n",
       "      <td>female</td>\n",
       "    </tr>\n",
       "    <tr>\n",
       "      <th>2</th>\n",
       "      <td>Colleges</td>\n",
       "      <td>AL-AZZAWI</td>\n",
       "      <td>ABDUL</td>\n",
       "      <td>103133</td>\n",
       "      <td>185.88</td>\n",
       "      <td>Algonquin College</td>\n",
       "      <td>Professor</td>\n",
       "      <td>2012</td>\n",
       "      <td>abdul</td>\n",
       "      <td>0.514695</td>\n",
       "      <td>female</td>\n",
       "    </tr>\n",
       "    <tr>\n",
       "      <th>3</th>\n",
       "      <td>Colleges</td>\n",
       "      <td>ALLAN</td>\n",
       "      <td>GAIL</td>\n",
       "      <td>104893</td>\n",
       "      <td>185.88</td>\n",
       "      <td>Algonquin College</td>\n",
       "      <td>Professor</td>\n",
       "      <td>2012</td>\n",
       "      <td>gail</td>\n",
       "      <td>0.456675</td>\n",
       "      <td>male</td>\n",
       "    </tr>\n",
       "    <tr>\n",
       "      <th>4</th>\n",
       "      <td>Colleges</td>\n",
       "      <td>ALLEN</td>\n",
       "      <td>IAN D.</td>\n",
       "      <td>104141</td>\n",
       "      <td>119.88</td>\n",
       "      <td>Algonquin College</td>\n",
       "      <td>Professor</td>\n",
       "      <td>2012</td>\n",
       "      <td>ian</td>\n",
       "      <td>0.358400</td>\n",
       "      <td>male</td>\n",
       "    </tr>\n",
       "  </tbody>\n",
       "</table>\n",
       "</div>"
      ],
      "text/plain": [
       "     sector  last_name       first_name salary_paid taxable_benefits  \\\n",
       "0  Colleges      ABBAS            SADIQ      102186           119.88   \n",
       "1  Colleges      AGATE  JEFFERY MICHAEL      104657           335.15   \n",
       "2  Colleges  AL-AZZAWI            ABDUL      103133           185.88   \n",
       "3  Colleges      ALLAN             GAIL      104893           185.88   \n",
       "4  Colleges      ALLEN           IAN D.      104141           119.88   \n",
       "\n",
       "            employer                                  job_title calendar_year  \\\n",
       "0  Algonquin College                                  Professor          2012   \n",
       "1  Algonquin College  Manager, Counselling and Testing Services          2012   \n",
       "2  Algonquin College                                  Professor          2012   \n",
       "3  Algonquin College                                  Professor          2012   \n",
       "4  Algonquin College                                  Professor          2012   \n",
       "\n",
       "  distinct_name  fem_prob  gender  \n",
       "0         sadiq  0.421819    male  \n",
       "1       jeffery  0.525883  female  \n",
       "2         abdul  0.514695  female  \n",
       "3          gail  0.456675    male  \n",
       "4           ian  0.358400    male  "
      ]
     },
     "execution_count": 11,
     "metadata": {},
     "output_type": "execute_result"
    }
   ],
   "source": [
    "sl_gender = pd.merge(sl_allyears, dnames_pred, how='left', left_on=['first_name_regex'], right_on=['distinct_name'])\n",
    "sl_gender.drop(['first_name_clean', 'first_name_regex'], axis=1, inplace=True)\n",
    "# Create gender variable\n",
    "sl_gender['gender'] = np.where(sl_gender['fem_prob']> 0.50, 'female', 'male')\n",
    "sl_gender.head()"
   ]
  },
  {
   "cell_type": "code",
   "execution_count": 12,
   "metadata": {
    "collapsed": false
   },
   "outputs": [
    {
     "data": {
      "text/plain": [
       "0.8061991605690302"
      ]
     },
     "execution_count": 12,
     "metadata": {},
     "output_type": "execute_result"
    }
   ],
   "source": [
    "# What percent of predictions are confident? i.e fall outside 45-55% band\n",
    "(len(sl_gender[sl_gender['fem_prob'] > 0.55]) + len(sl_gender[sl_gender['fem_prob'] < 0.45]))/len(sl_gender)\n",
    "# ~86%\n",
    "\n",
    "# Outside 40-60% band?\n",
    "(len(sl_gender[sl_gender['fem_prob'] > 0.60]) + len(sl_gender[sl_gender['fem_prob'] < 0.40]))/len(sl_gender)\n",
    "# ~81%"
   ]
  },
  {
   "cell_type": "markdown",
   "metadata": {},
   "source": [
    "# Clean Salary_Paid Variable"
   ]
  },
  {
   "cell_type": "code",
   "execution_count": 13,
   "metadata": {
    "collapsed": false
   },
   "outputs": [
    {
     "data": {
      "text/html": [
       "<div>\n",
       "<table border=\"1\" class=\"dataframe\">\n",
       "  <thead>\n",
       "    <tr style=\"text-align: right;\">\n",
       "      <th></th>\n",
       "      <th>sector</th>\n",
       "      <th>last_name</th>\n",
       "      <th>first_name</th>\n",
       "      <th>salary_paid</th>\n",
       "      <th>taxable_benefits</th>\n",
       "      <th>employer</th>\n",
       "      <th>job_title</th>\n",
       "      <th>calendar_year</th>\n",
       "      <th>distinct_name</th>\n",
       "      <th>fem_prob</th>\n",
       "      <th>gender</th>\n",
       "      <th>salary_num</th>\n",
       "    </tr>\n",
       "  </thead>\n",
       "  <tbody>\n",
       "    <tr>\n",
       "      <th>0</th>\n",
       "      <td>Colleges</td>\n",
       "      <td>ABBAS</td>\n",
       "      <td>SADIQ</td>\n",
       "      <td>102186</td>\n",
       "      <td>119.88</td>\n",
       "      <td>Algonquin College</td>\n",
       "      <td>Professor</td>\n",
       "      <td>2012</td>\n",
       "      <td>sadiq</td>\n",
       "      <td>0.421819</td>\n",
       "      <td>male</td>\n",
       "      <td>102185.98</td>\n",
       "    </tr>\n",
       "    <tr>\n",
       "      <th>1</th>\n",
       "      <td>Colleges</td>\n",
       "      <td>AGATE</td>\n",
       "      <td>JEFFERY MICHAEL</td>\n",
       "      <td>104657</td>\n",
       "      <td>335.15</td>\n",
       "      <td>Algonquin College</td>\n",
       "      <td>Manager, Counselling and Testing Services</td>\n",
       "      <td>2012</td>\n",
       "      <td>jeffery</td>\n",
       "      <td>0.525883</td>\n",
       "      <td>female</td>\n",
       "      <td>104656.60</td>\n",
       "    </tr>\n",
       "    <tr>\n",
       "      <th>2</th>\n",
       "      <td>Colleges</td>\n",
       "      <td>AL-AZZAWI</td>\n",
       "      <td>ABDUL</td>\n",
       "      <td>103133</td>\n",
       "      <td>185.88</td>\n",
       "      <td>Algonquin College</td>\n",
       "      <td>Professor</td>\n",
       "      <td>2012</td>\n",
       "      <td>abdul</td>\n",
       "      <td>0.514695</td>\n",
       "      <td>female</td>\n",
       "      <td>103133.47</td>\n",
       "    </tr>\n",
       "    <tr>\n",
       "      <th>3</th>\n",
       "      <td>Colleges</td>\n",
       "      <td>ALLAN</td>\n",
       "      <td>GAIL</td>\n",
       "      <td>104893</td>\n",
       "      <td>185.88</td>\n",
       "      <td>Algonquin College</td>\n",
       "      <td>Professor</td>\n",
       "      <td>2012</td>\n",
       "      <td>gail</td>\n",
       "      <td>0.456675</td>\n",
       "      <td>male</td>\n",
       "      <td>104893.10</td>\n",
       "    </tr>\n",
       "    <tr>\n",
       "      <th>4</th>\n",
       "      <td>Colleges</td>\n",
       "      <td>ALLEN</td>\n",
       "      <td>IAN D.</td>\n",
       "      <td>104141</td>\n",
       "      <td>119.88</td>\n",
       "      <td>Algonquin College</td>\n",
       "      <td>Professor</td>\n",
       "      <td>2012</td>\n",
       "      <td>ian</td>\n",
       "      <td>0.358400</td>\n",
       "      <td>male</td>\n",
       "      <td>104140.79</td>\n",
       "    </tr>\n",
       "  </tbody>\n",
       "</table>\n",
       "</div>"
      ],
      "text/plain": [
       "     sector  last_name       first_name salary_paid taxable_benefits  \\\n",
       "0  Colleges      ABBAS            SADIQ      102186           119.88   \n",
       "1  Colleges      AGATE  JEFFERY MICHAEL      104657           335.15   \n",
       "2  Colleges  AL-AZZAWI            ABDUL      103133           185.88   \n",
       "3  Colleges      ALLAN             GAIL      104893           185.88   \n",
       "4  Colleges      ALLEN           IAN D.      104141           119.88   \n",
       "\n",
       "            employer                                  job_title calendar_year  \\\n",
       "0  Algonquin College                                  Professor          2012   \n",
       "1  Algonquin College  Manager, Counselling and Testing Services          2012   \n",
       "2  Algonquin College                                  Professor          2012   \n",
       "3  Algonquin College                                  Professor          2012   \n",
       "4  Algonquin College                                  Professor          2012   \n",
       "\n",
       "  distinct_name  fem_prob  gender  salary_num  \n",
       "0         sadiq  0.421819    male   102185.98  \n",
       "1       jeffery  0.525883  female   104656.60  \n",
       "2         abdul  0.514695  female   103133.47  \n",
       "3          gail  0.456675    male   104893.10  \n",
       "4           ian  0.358400    male   104140.79  "
      ]
     },
     "execution_count": 13,
     "metadata": {},
     "output_type": "execute_result"
    }
   ],
   "source": [
    "import re\n",
    "\n",
    "# Check data types within salary_paid\n",
    "salary_dtypes = set([type(x) for x in sl_gender['salary_paid']])\n",
    "salary_dtypes\n",
    "# Have string and float types\n",
    "\n",
    "clean_salary = []\n",
    "\n",
    "for salary in sl_gender['salary_paid']:\n",
    "    if type(salary) == str:\n",
    "        salary_regex = float(re.sub(r'\\$|\\,','', salary))\n",
    "        clean_salary.append(salary_regex)\n",
    "    else:\n",
    "        clean_salary.append(salary)\n",
    "\n",
    "len(clean_salary)\n",
    "# 538 640 salaries\n",
    "\n",
    "salary_float = pd.DataFrame(clean_salary)\n",
    "salary_float.columns = ['salary_num']\n",
    "salary_float.describe()\n",
    "# Minimum is $100k, max is $1.72 million\n",
    "\n",
    "# Merge clean salary series onto sl_gender dataframe\n",
    "sl_salclean = pd.merge(sl_gender, salary_float, how=\"left\", left_index=True, right_index=True)\n",
    "sl_salclean.head()"
   ]
  },
  {
   "cell_type": "markdown",
   "metadata": {
    "collapsed": true
   },
   "source": [
    "# Clean Employer Variable"
   ]
  },
  {
   "cell_type": "code",
   "execution_count": 14,
   "metadata": {
    "collapsed": false
   },
   "outputs": [],
   "source": [
    "sl_salclean['employer_strip'] = sl_salclean['employer'].str.strip()\n",
    "# Remove leading and trailing whitespace\n",
    "sl_salclean['employer_strip'] = sl_salclean['employer_strip'].str.lower()\n",
    "# lower case all letters\n",
    "sl_salclean['employer_strip'] = sl_salclean['employer_strip'].str.replace(r'\\&', 'and')\n",
    "# replace '&' with 'and'"
   ]
  },
  {
   "cell_type": "code",
   "execution_count": 15,
   "metadata": {
    "collapsed": false
   },
   "outputs": [],
   "source": [
    "# Create Sentence Comparator function\n",
    "# Will use this function to identify potential duplicate employers\n",
    "\n",
    "import nltk.corpus\n",
    "import nltk.stem.snowball\n",
    "import string\n",
    "from nltk.tokenize import TreebankWordTokenizer\n",
    "\n",
    "# Get default English stopwords and extend with punctuation\n",
    "stopwords = nltk.corpus.stopwords.words('english')\n",
    "stopwords.extend(string.punctuation)\n",
    "stopwords.append('')\n",
    "\n",
    "# Create tokenizer and stemmer\n",
    "tokenizer = TreebankWordTokenizer()\n",
    "\n",
    "def sent_similar_score(a, b):\n",
    "    \"\"\"Check if a and b are matches.\"\"\"\n",
    "    tokens_a = [token.lower().strip(string.punctuation) for token in tokenizer.tokenize(a) \\\n",
    "                    if token.lower().strip(string.punctuation) not in stopwords]\n",
    "    tokens_b = [token.lower().strip(string.punctuation) for token in tokenizer.tokenize(b) \\\n",
    "                    if token.lower().strip(string.punctuation) not in stopwords]\n",
    "\n",
    "    # Calculate Jaccard similarity\n",
    "    ratio = len(set(tokens_a).intersection(tokens_b)) / float(len(set(tokens_a).union(tokens_b)))\n",
    "    return (ratio)"
   ]
  },
  {
   "cell_type": "code",
   "execution_count": 16,
   "metadata": {
    "collapsed": false
   },
   "outputs": [
    {
     "data": {
      "text/plain": [
       "2800"
      ]
     },
     "execution_count": 16,
     "metadata": {},
     "output_type": "execute_result"
    }
   ],
   "source": [
    "employers = sl_salclean['employer_strip'].unique().tolist()\n",
    "# Unique employer names\n",
    "employers.sort()\n",
    "# Sort alphabetically\n",
    "\n",
    "# Create lookup series to match potential duplicate names to de-dup names\n",
    "\n",
    "employer_join = []\n",
    "\n",
    "for i in range(len(employers)):\n",
    "    if i == 0:\n",
    "        employer_join.append(employers[i])\n",
    "        # Start the lookup list with the first raw employer name, verified as unique\n",
    "    else:\n",
    "        score = sent_similar_score(employers[i], employer_join[i-1])\n",
    "        # Compare the similarity between the raw employer name and the preceeding name on the lookup list\n",
    "        if score < 0.9:\n",
    "        # Set conservative threshold, employer names have to be almost exact for them to be replaced\n",
    "               employer_join.append(employers[i])\n",
    "        else:\n",
    "               employer_join.append(employer_join[i-1])\n",
    "\n",
    "len(set(employer_join))\n",
    "# 2 800 employer names from original number of ~3 290 names"
   ]
  },
  {
   "cell_type": "code",
   "execution_count": 17,
   "metadata": {
    "collapsed": false
   },
   "outputs": [],
   "source": [
    "# Merge the lookup clean employer name series to the raw employer name\n",
    "employers_df = pd.DataFrame(employers)\n",
    "employerjoin_df = pd.DataFrame(employer_join)\n",
    "\n",
    "employer_lookup = pd.concat([employers_df, employerjoin_df], axis=1)\n",
    "employer_lookup.columns = ['raw_employer', 'clean_employer']"
   ]
  },
  {
   "cell_type": "code",
   "execution_count": 18,
   "metadata": {
    "collapsed": false
   },
   "outputs": [
    {
     "data": {
      "text/html": [
       "<div>\n",
       "<table border=\"1\" class=\"dataframe\">\n",
       "  <thead>\n",
       "    <tr style=\"text-align: right;\">\n",
       "      <th></th>\n",
       "      <th>sector</th>\n",
       "      <th>last_name</th>\n",
       "      <th>first_name</th>\n",
       "      <th>salary_paid</th>\n",
       "      <th>taxable_benefits</th>\n",
       "      <th>employer</th>\n",
       "      <th>job_title</th>\n",
       "      <th>calendar_year</th>\n",
       "      <th>distinct_name</th>\n",
       "      <th>fem_prob</th>\n",
       "      <th>gender</th>\n",
       "      <th>salary_num</th>\n",
       "      <th>clean_employer</th>\n",
       "    </tr>\n",
       "  </thead>\n",
       "  <tbody>\n",
       "    <tr>\n",
       "      <th>0</th>\n",
       "      <td>Colleges</td>\n",
       "      <td>ABBAS</td>\n",
       "      <td>SADIQ</td>\n",
       "      <td>102186</td>\n",
       "      <td>119.88</td>\n",
       "      <td>Algonquin College</td>\n",
       "      <td>Professor</td>\n",
       "      <td>2012</td>\n",
       "      <td>sadiq</td>\n",
       "      <td>0.421819</td>\n",
       "      <td>male</td>\n",
       "      <td>102185.98</td>\n",
       "      <td>algonquin college</td>\n",
       "    </tr>\n",
       "    <tr>\n",
       "      <th>1</th>\n",
       "      <td>Colleges</td>\n",
       "      <td>AGATE</td>\n",
       "      <td>JEFFERY MICHAEL</td>\n",
       "      <td>104657</td>\n",
       "      <td>335.15</td>\n",
       "      <td>Algonquin College</td>\n",
       "      <td>Manager, Counselling and Testing Services</td>\n",
       "      <td>2012</td>\n",
       "      <td>jeffery</td>\n",
       "      <td>0.525883</td>\n",
       "      <td>female</td>\n",
       "      <td>104656.60</td>\n",
       "      <td>algonquin college</td>\n",
       "    </tr>\n",
       "    <tr>\n",
       "      <th>2</th>\n",
       "      <td>Colleges</td>\n",
       "      <td>AL-AZZAWI</td>\n",
       "      <td>ABDUL</td>\n",
       "      <td>103133</td>\n",
       "      <td>185.88</td>\n",
       "      <td>Algonquin College</td>\n",
       "      <td>Professor</td>\n",
       "      <td>2012</td>\n",
       "      <td>abdul</td>\n",
       "      <td>0.514695</td>\n",
       "      <td>female</td>\n",
       "      <td>103133.47</td>\n",
       "      <td>algonquin college</td>\n",
       "    </tr>\n",
       "    <tr>\n",
       "      <th>3</th>\n",
       "      <td>Colleges</td>\n",
       "      <td>ALLAN</td>\n",
       "      <td>GAIL</td>\n",
       "      <td>104893</td>\n",
       "      <td>185.88</td>\n",
       "      <td>Algonquin College</td>\n",
       "      <td>Professor</td>\n",
       "      <td>2012</td>\n",
       "      <td>gail</td>\n",
       "      <td>0.456675</td>\n",
       "      <td>male</td>\n",
       "      <td>104893.10</td>\n",
       "      <td>algonquin college</td>\n",
       "    </tr>\n",
       "    <tr>\n",
       "      <th>4</th>\n",
       "      <td>Colleges</td>\n",
       "      <td>ALLEN</td>\n",
       "      <td>IAN D.</td>\n",
       "      <td>104141</td>\n",
       "      <td>119.88</td>\n",
       "      <td>Algonquin College</td>\n",
       "      <td>Professor</td>\n",
       "      <td>2012</td>\n",
       "      <td>ian</td>\n",
       "      <td>0.358400</td>\n",
       "      <td>male</td>\n",
       "      <td>104140.79</td>\n",
       "      <td>algonquin college</td>\n",
       "    </tr>\n",
       "  </tbody>\n",
       "</table>\n",
       "</div>"
      ],
      "text/plain": [
       "     sector  last_name       first_name salary_paid taxable_benefits  \\\n",
       "0  Colleges      ABBAS            SADIQ      102186           119.88   \n",
       "1  Colleges      AGATE  JEFFERY MICHAEL      104657           335.15   \n",
       "2  Colleges  AL-AZZAWI            ABDUL      103133           185.88   \n",
       "3  Colleges      ALLAN             GAIL      104893           185.88   \n",
       "4  Colleges      ALLEN           IAN D.      104141           119.88   \n",
       "\n",
       "            employer                                  job_title calendar_year  \\\n",
       "0  Algonquin College                                  Professor          2012   \n",
       "1  Algonquin College  Manager, Counselling and Testing Services          2012   \n",
       "2  Algonquin College                                  Professor          2012   \n",
       "3  Algonquin College                                  Professor          2012   \n",
       "4  Algonquin College                                  Professor          2012   \n",
       "\n",
       "  distinct_name  fem_prob  gender  salary_num     clean_employer  \n",
       "0         sadiq  0.421819    male   102185.98  algonquin college  \n",
       "1       jeffery  0.525883  female   104656.60  algonquin college  \n",
       "2         abdul  0.514695  female   103133.47  algonquin college  \n",
       "3          gail  0.456675    male   104893.10  algonquin college  \n",
       "4           ian  0.358400    male   104140.79  algonquin college  "
      ]
     },
     "execution_count": 18,
     "metadata": {},
     "output_type": "execute_result"
    }
   ],
   "source": [
    "# Merge clean employer_lookup onto sl_salclean dataframe\n",
    "sl_empclean = pd.merge(sl_salclean, employer_lookup, how=\"left\", left_on=['employer_strip'], right_on=['raw_employer'])\n",
    "sl_empclean.drop(['employer_strip', 'raw_employer'], axis=1, inplace=True)\n",
    "sl_empclean.head()"
   ]
  },
  {
   "cell_type": "markdown",
   "metadata": {},
   "source": [
    "# Clean Sector Variable"
   ]
  },
  {
   "cell_type": "code",
   "execution_count": 19,
   "metadata": {
    "collapsed": false
   },
   "outputs": [
    {
     "data": {
      "text/plain": [
       "array(['Colleges', 'Crown Agencies', 'Government of Ontario - Judiciary',\n",
       "       'Government of Ontario - Legislative Assembly and Offices',\n",
       "       'Government of Ontario - Ministries',\n",
       "       'Hospitals and Boards of Public Health',\n",
       "       'Hydro One and Ontario Power Generation',\n",
       "       'Municipalities and Services', 'Other Public Sector Employers',\n",
       "       'School Boards', 'Seconded (Children & Youth Services)*',\n",
       "       'Seconded (Citizenship & Immigration)*',\n",
       "       'Seconded (Comm. Safety and Corr. Services)*',\n",
       "       'Seconded (Education)*', 'Seconded (Health & Long–Term Care)*',\n",
       "       'Seconded (Training, Colleges & Universities)*', 'Universities',\n",
       "       'Seconded (Tourism, Culture & Sport)*',\n",
       "       'Seconded (Transportation)*',\n",
       "       'Seconded (Training, Colleges and Universities)*',\n",
       "       'Seconded (Children and Youth Services)*',\n",
       "       'Seconded (Health and Long-Term Care)*',\n",
       "       'Seconded (Community and Social Services)*',\n",
       "       'Government of Ontario - Legislative Assembly & Offices',\n",
       "       'Ontario Power Generation', 'Municipalities & Services',\n",
       "       'Hospitals & Boards of Public Health',\n",
       "       'Seconded (Community & Social Services)*',\n",
       "       'Seconded (Community Safety & Correctional Services)*',\n",
       "       'Seconded (Energy)*', 'Seconded (Labour)*',\n",
       "       'Seconded (Advanced Education and Skills Development)*',\n",
       "       'Seconded (Community Safety and Correctional Services)*'], dtype=object)"
      ]
     },
     "execution_count": 19,
     "metadata": {},
     "output_type": "execute_result"
    }
   ],
   "source": [
    "sl_empclean['sector'].unique()"
   ]
  },
  {
   "cell_type": "code",
   "execution_count": 24,
   "metadata": {
    "collapsed": false
   },
   "outputs": [
    {
     "data": {
      "text/plain": [
       "array(['colleges', 'crown agencies', 'government of ontario - judiciary',\n",
       "       'government of ontario - legislative assembly and offices',\n",
       "       'government of ontario - ministries',\n",
       "       'hospitals and boards of public health',\n",
       "       'hydro one and ontario power generation',\n",
       "       'municipalities and services', 'other public sector employers',\n",
       "       'school boards', 'universities'], dtype=object)"
      ]
     },
     "execution_count": 24,
     "metadata": {},
     "output_type": "execute_result"
    }
   ],
   "source": [
    "sl_salclean['sector_clean'] = sl_salclean['sector'].str.strip()\n",
    "# Remove leading and trailing whitespace\n",
    "sl_salclean['sector_clean'] = sl_salclean['sector_clean'].str.lower()\n",
    "# lower case all letters\n",
    "sl_salclean['sector_clean'] = sl_salclean['sector_clean'].str.replace(r'\\&', 'and')\n",
    "# replace '&' with 'and'\n",
    "sl_salclean['sector_clean'] = sl_salclean['sector_clean'].str.replace(r'seconded .*', 'government of ontario - ministries')\n",
    "# seconded employees work for a public organization but have been borrowed by a government ministry\n",
    "sl_salclean['sector_clean'].unique()\n",
    "# merge seperate opg sector into hydro one/opg\n",
    "sl_salclean['sector_clean'] = np.where(sl_salclean['sector_clean'] == 'ontario power generation', 'hydro one and ontario power generation', sl_salclean['sector_clean'])\n",
    "sl_salclean['sector_clean'].unique()"
   ]
  },
  {
   "cell_type": "markdown",
   "metadata": {},
   "source": [
    "# Export Final Dataset to CSV"
   ]
  },
  {
   "cell_type": "code",
   "execution_count": 29,
   "metadata": {
    "collapsed": false
   },
   "outputs": [
    {
     "data": {
      "text/html": [
       "<div>\n",
       "<table border=\"1\" class=\"dataframe\">\n",
       "  <thead>\n",
       "    <tr style=\"text-align: right;\">\n",
       "      <th></th>\n",
       "      <th>first_name</th>\n",
       "      <th>sector</th>\n",
       "      <th>employer</th>\n",
       "      <th>salary</th>\n",
       "      <th>fem_prob</th>\n",
       "      <th>gender</th>\n",
       "      <th>year</th>\n",
       "    </tr>\n",
       "  </thead>\n",
       "  <tbody>\n",
       "    <tr>\n",
       "      <th>0</th>\n",
       "      <td>sadiq</td>\n",
       "      <td>colleges</td>\n",
       "      <td>algonquin college</td>\n",
       "      <td>102185.98</td>\n",
       "      <td>0.421819</td>\n",
       "      <td>male</td>\n",
       "      <td>2012</td>\n",
       "    </tr>\n",
       "    <tr>\n",
       "      <th>1</th>\n",
       "      <td>jeffery</td>\n",
       "      <td>colleges</td>\n",
       "      <td>algonquin college</td>\n",
       "      <td>104656.60</td>\n",
       "      <td>0.525883</td>\n",
       "      <td>female</td>\n",
       "      <td>2012</td>\n",
       "    </tr>\n",
       "    <tr>\n",
       "      <th>2</th>\n",
       "      <td>abdul</td>\n",
       "      <td>colleges</td>\n",
       "      <td>algonquin college</td>\n",
       "      <td>103133.47</td>\n",
       "      <td>0.514695</td>\n",
       "      <td>female</td>\n",
       "      <td>2012</td>\n",
       "    </tr>\n",
       "    <tr>\n",
       "      <th>3</th>\n",
       "      <td>gail</td>\n",
       "      <td>colleges</td>\n",
       "      <td>algonquin college</td>\n",
       "      <td>104893.10</td>\n",
       "      <td>0.456675</td>\n",
       "      <td>male</td>\n",
       "      <td>2012</td>\n",
       "    </tr>\n",
       "    <tr>\n",
       "      <th>4</th>\n",
       "      <td>ian</td>\n",
       "      <td>colleges</td>\n",
       "      <td>algonquin college</td>\n",
       "      <td>104140.79</td>\n",
       "      <td>0.358400</td>\n",
       "      <td>male</td>\n",
       "      <td>2012</td>\n",
       "    </tr>\n",
       "  </tbody>\n",
       "</table>\n",
       "</div>"
      ],
      "text/plain": [
       "  first_name    sector           employer     salary  fem_prob  gender  year\n",
       "0      sadiq  colleges  algonquin college  102185.98  0.421819    male  2012\n",
       "1    jeffery  colleges  algonquin college  104656.60  0.525883  female  2012\n",
       "2      abdul  colleges  algonquin college  103133.47  0.514695  female  2012\n",
       "3       gail  colleges  algonquin college  104893.10  0.456675    male  2012\n",
       "4        ian  colleges  algonquin college  104140.79  0.358400    male  2012"
      ]
     },
     "execution_count": 29,
     "metadata": {},
     "output_type": "execute_result"
    }
   ],
   "source": [
    "sl_salclean.head()\n",
    "sl_clean = sl_salclean.loc[:,['distinct_name', 'sector_clean','employer_strip', 'salary_num', 'fem_prob', 'gender','calendar_year']]\n",
    "sl_clean.columns = ['first_name', 'sector', 'employer', 'salary', 'fem_prob', 'gender','year']\n",
    "sl_clean.head()"
   ]
  },
  {
   "cell_type": "code",
   "execution_count": 30,
   "metadata": {
    "collapsed": false
   },
   "outputs": [],
   "source": [
    "# Limit dataset to confident predictions (outside 45-55% range)\n",
    "sl_conf = sl_clean.loc[(sl_clean['fem_prob'] > 0.55) | (sl_clean['fem_prob'] < 0.45)]"
   ]
  },
  {
   "cell_type": "code",
   "execution_count": 31,
   "metadata": {
    "collapsed": true
   },
   "outputs": [],
   "source": [
    "sl_conf.to_csv('/Users/arielaguilargonzalez/Library/Lima/Python/Sunshine List Gender Prediction Model/Output/Sunshine_List_Conf.csv')"
   ]
  }
 ],
 "metadata": {
  "kernelspec": {
   "display_name": "Python 3",
   "language": "python",
   "name": "python3"
  },
  "language_info": {
   "codemirror_mode": {
    "name": "ipython",
    "version": 3
   },
   "file_extension": ".py",
   "mimetype": "text/x-python",
   "name": "python",
   "nbconvert_exporter": "python",
   "pygments_lexer": "ipython3",
   "version": "3.6.0"
  }
 },
 "nbformat": 4,
 "nbformat_minor": 2
}
